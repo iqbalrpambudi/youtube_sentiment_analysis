{
 "cells": [
  {
   "cell_type": "markdown",
   "metadata": {
    "id": "OyXis02DfJ7d"
   },
   "source": [
    "## Import Dataset"
   ]
  },
  {
   "cell_type": "code",
   "execution_count": 1,
   "metadata": {
    "executionInfo": {
     "elapsed": 987,
     "status": "ok",
     "timestamp": 1608539570564,
     "user": {
      "displayName": "Iqbal Pambudi",
      "photoUrl": "https://lh3.googleusercontent.com/a-/AOh14GifQ80kOvsClB_ZopSUHHqxbKQjCyMxIytxHe1n2Q=s64",
      "userId": "12180820000445360434"
     },
     "user_tz": -420
    },
    "id": "q8XBhb9bvtcs"
   },
   "outputs": [],
   "source": [
    "import pandas as pd\n",
    "\n",
    "# df_review = pd.read_csv(\"textblob_dataset_ready.csv\")\n",
    "df_review = pd.read_csv(\"../dataset/ready/manual_dataset.csv\",usecols=[\"Comment\",\"Label\"],nrows=1000)"
   ]
  },
  {
   "cell_type": "code",
   "execution_count": 2,
   "metadata": {
    "colab": {
     "base_uri": "https://localhost:8080/",
     "height": 204
    },
    "executionInfo": {
     "elapsed": 1004,
     "status": "ok",
     "timestamp": 1608539574058,
     "user": {
      "displayName": "Iqbal Pambudi",
      "photoUrl": "https://lh3.googleusercontent.com/a-/AOh14GifQ80kOvsClB_ZopSUHHqxbKQjCyMxIytxHe1n2Q=s64",
      "userId": "12180820000445360434"
     },
     "user_tz": -420
    },
    "id": "q6QtPHyPwS_k",
    "outputId": "c757ed2f-a3fd-4ee9-9a2d-83e20fa05762"
   },
   "outputs": [
    {
     "data": {
      "text/html": [
       "<div>\n",
       "<style scoped>\n",
       "    .dataframe tbody tr th:only-of-type {\n",
       "        vertical-align: middle;\n",
       "    }\n",
       "\n",
       "    .dataframe tbody tr th {\n",
       "        vertical-align: top;\n",
       "    }\n",
       "\n",
       "    .dataframe thead th {\n",
       "        text-align: right;\n",
       "    }\n",
       "</style>\n",
       "<table border=\"1\" class=\"dataframe\">\n",
       "  <thead>\n",
       "    <tr style=\"text-align: right;\">\n",
       "      <th></th>\n",
       "      <th>Label</th>\n",
       "      <th>Comment</th>\n",
       "    </tr>\n",
       "  </thead>\n",
       "  <tbody>\n",
       "    <tr>\n",
       "      <th>0</th>\n",
       "      <td>0</td>\n",
       "      <td>vaksin tidak berguna</td>\n",
       "    </tr>\n",
       "    <tr>\n",
       "      <th>1</th>\n",
       "      <td>0</td>\n",
       "      <td>penelitian vaksin yang begitu cepat vaksin dbd...</td>\n",
       "    </tr>\n",
       "    <tr>\n",
       "      <th>2</th>\n",
       "      <td>0</td>\n",
       "      <td>kalau bisa faksinnya di tambahin odading mang ...</td>\n",
       "    </tr>\n",
       "    <tr>\n",
       "      <th>3</th>\n",
       "      <td>0</td>\n",
       "      <td>yang divaksin pertama harusnya orang nomor di ...</td>\n",
       "    </tr>\n",
       "    <tr>\n",
       "      <th>4</th>\n",
       "      <td>0</td>\n",
       "      <td>tolak vaksin covid</td>\n",
       "    </tr>\n",
       "  </tbody>\n",
       "</table>\n",
       "</div>"
      ],
      "text/plain": [
       "   Label                                            Comment\n",
       "0      0                               vaksin tidak berguna\n",
       "1      0  penelitian vaksin yang begitu cepat vaksin dbd...\n",
       "2      0  kalau bisa faksinnya di tambahin odading mang ...\n",
       "3      0  yang divaksin pertama harusnya orang nomor di ...\n",
       "4      0                                 tolak vaksin covid"
      ]
     },
     "execution_count": 2,
     "metadata": {},
     "output_type": "execute_result"
    }
   ],
   "source": [
    "df_review.head()"
   ]
  },
  {
   "cell_type": "code",
   "execution_count": 3,
   "metadata": {
    "colab": {
     "base_uri": "https://localhost:8080/"
    },
    "executionInfo": {
     "elapsed": 963,
     "status": "ok",
     "timestamp": 1608539578716,
     "user": {
      "displayName": "Iqbal Pambudi",
      "photoUrl": "https://lh3.googleusercontent.com/a-/AOh14GifQ80kOvsClB_ZopSUHHqxbKQjCyMxIytxHe1n2Q=s64",
      "userId": "12180820000445360434"
     },
     "user_tz": -420
    },
    "id": "Z6oB9tzqxCFY",
    "outputId": "e158c940-f2c7-471d-ef95-a2944755260f"
   },
   "outputs": [
    {
     "data": {
      "text/plain": [
       "1    373\n",
       "0    360\n",
       "2    267\n",
       "Name: Label, dtype: int64"
      ]
     },
     "execution_count": 3,
     "metadata": {},
     "output_type": "execute_result"
    }
   ],
   "source": [
    "df_review[\"Label\"].value_counts()"
   ]
  },
  {
   "cell_type": "markdown",
   "metadata": {
    "id": "8YxFpeT1fYqA"
   },
   "source": [
    "## Pembagian Sampel "
   ]
  },
  {
   "cell_type": "code",
   "execution_count": 4,
   "metadata": {
    "colab": {
     "base_uri": "https://localhost:8080/"
    },
    "executionInfo": {
     "elapsed": 1002,
     "status": "ok",
     "timestamp": 1608539584118,
     "user": {
      "displayName": "Iqbal Pambudi",
      "photoUrl": "https://lh3.googleusercontent.com/a-/AOh14GifQ80kOvsClB_ZopSUHHqxbKQjCyMxIytxHe1n2Q=s64",
      "userId": "12180820000445360434"
     },
     "user_tz": -420
    },
    "id": "iyL1inYXyDcx",
    "outputId": "70055153-dd3b-4849-8479-84064011e296"
   },
   "outputs": [
    {
     "name": "stdout",
     "output_type": "stream",
     "text": [
      "(780, 2)\n",
      "2    0.333333\n",
      "1    0.333333\n",
      "0    0.333333\n",
      "Name: Label, dtype: float64\n"
     ]
    }
   ],
   "source": [
    "s_1 = df_review[df_review['Label']==0].sample(260,replace=True)\n",
    "s_2 = df_review[df_review['Label']==1].sample(260,replace=True)\n",
    "s_3 = df_review[df_review['Label']==2].sample(260,replace=True)\n",
    "df_review = pd.concat([s_1, s_2,s_3])\n",
    "\n",
    "print(df_review.shape)\n",
    "print(df_review['Label'].value_counts(normalize=True))"
   ]
  },
  {
   "cell_type": "markdown",
   "metadata": {
    "id": "66thx3K1fewz"
   },
   "source": [
    "## Word Cloud"
   ]
  },
  {
   "cell_type": "code",
   "execution_count": 5,
   "metadata": {
    "executionInfo": {
     "elapsed": 964,
     "status": "ok",
     "timestamp": 1608539592571,
     "user": {
      "displayName": "Iqbal Pambudi",
      "photoUrl": "https://lh3.googleusercontent.com/a-/AOh14GifQ80kOvsClB_ZopSUHHqxbKQjCyMxIytxHe1n2Q=s64",
      "userId": "12180820000445360434"
     },
     "user_tz": -420
    },
    "id": "IgQyrOBJypgA"
   },
   "outputs": [
    {
     "ename": "ModuleNotFoundError",
     "evalue": "No module named 'wordcloud'",
     "output_type": "error",
     "traceback": [
      "\u001b[0;31m---------------------------------------------------------------------------\u001b[0m",
      "\u001b[0;31mModuleNotFoundError\u001b[0m                       Traceback (most recent call last)",
      "\u001b[0;32m<ipython-input-5-b65183956bcd>\u001b[0m in \u001b[0;36m<module>\u001b[0;34m\u001b[0m\n\u001b[0;32m----> 1\u001b[0;31m \u001b[0;32mfrom\u001b[0m \u001b[0mwordcloud\u001b[0m \u001b[0;32mimport\u001b[0m \u001b[0mWordCloud\u001b[0m\u001b[0;34m\u001b[0m\u001b[0;34m\u001b[0m\u001b[0m\n\u001b[0m\u001b[1;32m      2\u001b[0m \u001b[0;32mimport\u001b[0m \u001b[0mmatplotlib\u001b[0m\u001b[0;34m.\u001b[0m\u001b[0mpyplot\u001b[0m \u001b[0;32mas\u001b[0m \u001b[0mplt\u001b[0m\u001b[0;34m\u001b[0m\u001b[0;34m\u001b[0m\u001b[0m\n",
      "\u001b[0;31mModuleNotFoundError\u001b[0m: No module named 'wordcloud'"
     ]
    }
   ],
   "source": [
    "from wordcloud import WordCloud\n",
    "import matplotlib.pyplot as plt"
   ]
  },
  {
   "cell_type": "code",
   "execution_count": null,
   "metadata": {
    "colab": {
     "base_uri": "https://localhost:8080/",
     "height": 1000
    },
    "executionInfo": {
     "elapsed": 13574,
     "status": "ok",
     "timestamp": 1608539614715,
     "user": {
      "displayName": "Iqbal Pambudi",
      "photoUrl": "https://lh3.googleusercontent.com/a-/AOh14GifQ80kOvsClB_ZopSUHHqxbKQjCyMxIytxHe1n2Q=s64",
      "userId": "12180820000445360434"
     },
     "user_tz": -420
    },
    "id": "pMcC7_c3ysaX",
    "outputId": "7ee3b8d0-959b-4780-9159-dc816e01cf50"
   },
   "outputs": [],
   "source": [
    "# Polarity == 0 negative\n",
    "train_s0 = df_review[df_review[\"Label\"] == 0]\n",
    "all_text_s0 = ' '.join(word for word in train_s0[\"Comment\"])\n",
    "wordcloud = WordCloud(colormap='Reds', width=1000, height=1000, mode='RGBA', background_color='white').generate(all_text_s0)\n",
    "plt.figure(figsize=(20,10))\n",
    "plt.imshow(wordcloud, interpolation='bilinear')\n",
    "plt.axis(\"off\")\n",
    "plt.margins(x=0, y=0)\n",
    "plt.show()\n",
    "\n",
    "# Polarity == 1 netral\n",
    "train_s1 = df_review[df_review[\"Label\"] == 1]\n",
    "all_text_s1 = ' '.join(word for word in train_s1[\"Comment\"])\n",
    "wordcloud = WordCloud(width=1000, height=1000, colormap='Blues', background_color='white', mode='RGBA').generate(all_text_s1)\n",
    "plt.figure( figsize=(20,10))\n",
    "plt.imshow(wordcloud, interpolation='bilinear')\n",
    "plt.axis(\"off\")\n",
    "plt.margins(x=0, y=0)\n",
    "plt.show()\n",
    "\n",
    "# Polarity == 2 positif\n",
    "train_s1 = df_review[df_review[\"Label\"] == 2]\n",
    "all_text_s1 = ' '.join(word for word in train_s1[\"Comment\"])\n",
    "wordcloud = WordCloud(width=1000, height=1000, colormap='Greens', background_color='white', mode='RGBA').generate(all_text_s1)\n",
    "plt.figure( figsize=(20,10))\n",
    "plt.imshow(wordcloud, interpolation='bilinear')\n",
    "plt.axis(\"off\")\n",
    "plt.margins(x=0, y=0)\n",
    "plt.show()"
   ]
  },
  {
   "cell_type": "code",
   "execution_count": null,
   "metadata": {
    "executionInfo": {
     "elapsed": 1055,
     "status": "ok",
     "timestamp": 1608539625962,
     "user": {
      "displayName": "Iqbal Pambudi",
      "photoUrl": "https://lh3.googleusercontent.com/a-/AOh14GifQ80kOvsClB_ZopSUHHqxbKQjCyMxIytxHe1n2Q=s64",
      "userId": "12180820000445360434"
     },
     "user_tz": -420
    },
    "id": "kLqeZutAzDU_"
   },
   "outputs": [],
   "source": [
    "wf=wordcloud.words_"
   ]
  },
  {
   "cell_type": "markdown",
   "metadata": {
    "id": "U4pe26OIfkHZ"
   },
   "source": [
    "## Preprocessing"
   ]
  },
  {
   "cell_type": "markdown",
   "metadata": {
    "executionInfo": {
     "elapsed": 952,
     "status": "ok",
     "timestamp": 1608539628218,
     "user": {
      "displayName": "Iqbal Pambudi",
      "photoUrl": "https://lh3.googleusercontent.com/a-/AOh14GifQ80kOvsClB_ZopSUHHqxbKQjCyMxIytxHe1n2Q=s64",
      "userId": "12180820000445360434"
     },
     "user_tz": -420
    },
    "id": "bjVv30_SzHDP"
   },
   "source": [
    "import string, re\n",
    "\n",
    "def cleansing(data):\n",
    "    # lower text\n",
    "    data = data.lower()\n",
    "    \n",
    "    # hapus punctuation\n",
    "    remove = string.punctuation\n",
    "    translator = str.maketrans(remove, ' '*len(remove))\n",
    "    data = data.translate(translator)\n",
    "    \n",
    "    # remove ASCII dan unicode\n",
    "    data = data.encode('ascii', 'ignore').decode('utf-8')\n",
    "    data = re.sub(r'[^\\x00-\\x7f]',r'', data)\n",
    "    \n",
    "    # remove newline\n",
    "    data = data.replace('\\n', ' ')\n",
    "    \n",
    "    return data"
   ]
  },
  {
   "cell_type": "markdown",
   "metadata": {
    "colab": {
     "base_uri": "https://localhost:8080/",
     "height": 204
    },
    "executionInfo": {
     "elapsed": 986,
     "status": "ok",
     "timestamp": 1608539639120,
     "user": {
      "displayName": "Iqbal Pambudi",
      "photoUrl": "https://lh3.googleusercontent.com/a-/AOh14GifQ80kOvsClB_ZopSUHHqxbKQjCyMxIytxHe1n2Q=s64",
      "userId": "12180820000445360434"
     },
     "user_tz": -420
    },
    "id": "kvICifO80A1c",
    "outputId": "63bd85ed-ffc3-492a-9b8d-eb408a53edb7"
   },
   "source": [
    "review = []\n",
    "for index, row in df_review.iterrows():\n",
    "    review.append(cleansing(row[\"Comment\"]))\n",
    "    \n",
    "df_review[\"Comment\"] = review\n",
    "df_review.head()\n"
   ]
  },
  {
   "cell_type": "code",
   "execution_count": 6,
   "metadata": {},
   "outputs": [],
   "source": [
    "df_review['Split'] = df_review['Comment'].str.split()\n"
   ]
  },
  {
   "cell_type": "code",
   "execution_count": 8,
   "metadata": {},
   "outputs": [
    {
     "data": {
      "text/plain": [
       "45                                 [paling, juga, prank]\n",
       "231    [manusia, di, china, dijadikan, kelinci, perco...\n",
       "11                                     [no, vaksin, pak]\n",
       "41                                     [pencitraan, tok]\n",
       "303                   [sembuh, sendiri, ko, yaqin, saya]\n",
       "262    [sumber, vaksin, itu, datang, dari, tiongkok, ...\n",
       "161    [di, buat, uji, klinis, dulu, adalah, dpr, ket...\n",
       "278    [ngeri, vaksin, buatan, china, pake, bendera, ...\n",
       "108    [loh, katanya, uda, ada, vaksin, nya, beli, da...\n",
       "344    [cuma, orang, bodoh, dah, tolol, yang, percaya...\n",
       "315    [presidennya, aja, dulu, di, vaksin, china, aj...\n",
       "144    [januari, yaelah, keburu, sepi, nih, penghuni,...\n",
       "101    [kelamaan, pak, tiap, hari, ini, positif, oran...\n",
       "88               [harusnya, jokowi, dulu, di, uji, coba]\n",
       "17     [nda, butuh, vaksin, kasi, aja, yang, mau, di,...\n",
       "89     [januari, lama, banget, keburu, phk, massal, d...\n",
       "292              [jo, gelem, di, vaksin, diapusiii, tok]\n",
       "163    [sebenar, nya, ini, cuma, permainan, nya, chin...\n",
       "5      [yang, pertama, disuntik, vaksin, januari, ada...\n",
       "260    [pejabat, dikasih, vaksin, agar, jadi, jujur, ...\n",
       "Name: Split, dtype: object"
      ]
     },
     "execution_count": 8,
     "metadata": {},
     "output_type": "execute_result"
    }
   ],
   "source": [
    "df_review['Split'].head(20)"
   ]
  },
  {
   "cell_type": "code",
   "execution_count": 9,
   "metadata": {},
   "outputs": [],
   "source": [
    "normalizad_word = pd.read_excel(\"../normalisasi.xlsx\")\n",
    "\n",
    "normalizad_word_dict = {}\n",
    "\n",
    "for index, row in normalizad_word.iterrows():\n",
    "    if row[0] not in normalizad_word_dict:\n",
    "        normalizad_word_dict[row[0]] = row[1] \n",
    "\n",
    "def normalized_term(document):\n",
    "    return [normalizad_word_dict[term] if term in normalizad_word_dict else term for term in document]\n",
    "\n",
    "df_review['Split'] = df_review['Split'].apply(normalized_term)\n",
    "\n"
   ]
  },
  {
   "cell_type": "code",
   "execution_count": 10,
   "metadata": {},
   "outputs": [
    {
     "data": {
      "text/plain": [
       "45                                 [paling, juga, prank]\n",
       "231    [manusia, di, china, dijadikan, kelinci, perco...\n",
       "11                                     [no, vaksin, pak]\n",
       "41                                     [pencitraan, tok]\n",
       "303                   [sembuh, sendiri, ko, yaqin, saya]\n",
       "262    [sumber, vaksin, itu, datang, dari, tiongkok, ...\n",
       "161    [di, buat, uji, klinis, dulu, adalah, dpr, ket...\n",
       "278    [ngeri, vaksin, buatan, china, pake, bendera, ...\n",
       "108    [loh, katanya, uda, ada, vaksin, nya, beli, da...\n",
       "344    [cuma, orang, bodoh, dah, tolol, yang, percaya...\n",
       "315    [presidennya, aja, dulu, di, vaksin, china, aj...\n",
       "144    [januari, yaelah, keburu, sepi, nih, penghuni,...\n",
       "101    [kelamaan, pak, tiap, hari, ini, positif, oran...\n",
       "88               [harusnya, jokowi, dulu, di, uji, coba]\n",
       "17     [nda, butuh, vaksin, kasi, aja, yang, mau, di,...\n",
       "89     [januari, lama, banget, keburu, phk, massal, d...\n",
       "292              [jo, gelem, di, vaksin, diapusiii, tok]\n",
       "163    [sebenar, nya, ini, cuma, permainan, nya, chin...\n",
       "5      [yang, pertama, disuntik, vaksin, januari, ada...\n",
       "260    [pejabat, dikasih, vaksin, agar, jadi, jujur, ...\n",
       "Name: Split, dtype: object"
      ]
     },
     "execution_count": 10,
     "metadata": {},
     "output_type": "execute_result"
    }
   ],
   "source": [
    "df_review['Split'].head(20)"
   ]
  },
  {
   "cell_type": "code",
   "execution_count": null,
   "metadata": {
    "colab": {
     "base_uri": "https://localhost:8080/"
    },
    "executionInfo": {
     "elapsed": 3282,
     "status": "ok",
     "timestamp": 1608539648869,
     "user": {
      "displayName": "Iqbal Pambudi",
      "photoUrl": "https://lh3.googleusercontent.com/a-/AOh14GifQ80kOvsClB_ZopSUHHqxbKQjCyMxIytxHe1n2Q=s64",
      "userId": "12180820000445360434"
     },
     "user_tz": -420
    },
    "id": "n7d-nhXt0Xnh",
    "outputId": "cebf2c33-6118-47bc-812d-b3dfbe583251"
   },
   "outputs": [],
   "source": [
    "!pip install Sastrawi"
   ]
  },
  {
   "cell_type": "code",
   "execution_count": 11,
   "metadata": {},
   "outputs": [],
   "source": [
    "df_review['Comment'] = df_review['Split'].str.join(' ')\n"
   ]
  },
  {
   "cell_type": "code",
   "execution_count": 12,
   "metadata": {},
   "outputs": [
    {
     "data": {
      "text/plain": [
       "45                                paling juga prank\n",
       "231    manusia di china dijadikan kelinci percobaan\n",
       "11                                    no vaksin pak\n",
       "41                                   pencitraan tok\n",
       "303                    sembuh sendiri ko yaqin saya\n",
       "Name: Comment, dtype: object"
      ]
     },
     "execution_count": 12,
     "metadata": {},
     "output_type": "execute_result"
    }
   ],
   "source": [
    "df_review['Comment'].head()"
   ]
  },
  {
   "cell_type": "code",
   "execution_count": 13,
   "metadata": {
    "colab": {
     "base_uri": "https://localhost:8080/"
    },
    "executionInfo": {
     "elapsed": 964,
     "status": "ok",
     "timestamp": 1608539652732,
     "user": {
      "displayName": "Iqbal Pambudi",
      "photoUrl": "https://lh3.googleusercontent.com/a-/AOh14GifQ80kOvsClB_ZopSUHHqxbKQjCyMxIytxHe1n2Q=s64",
      "userId": "12180820000445360434"
     },
     "user_tz": -420
    },
    "id": "qiAOIfGw0bUH",
    "outputId": "67540106-6b5d-43d8-ab72-d1cfebb492ec"
   },
   "outputs": [
    {
     "name": "stdout",
     "output_type": "stream",
     "text": [
      "Dengan Menggunakan Python Library Sastrawi proses Stopword Removal\n"
     ]
    }
   ],
   "source": [
    "# import library\n",
    "from Sastrawi.StopWordRemover.StopWordRemoverFactory import StopWordRemoverFactory\n",
    " \n",
    "factory = StopWordRemoverFactory()\n",
    "stopword = factory.create_stop_word_remover()\n",
    " \n",
    "# Contoh\n",
    "kalimat = 'Dengan Menggunakan Python dan Library Sastrawi saya dapat melakukan proses Stopword Removal'\n",
    "stop = stopword.remove(kalimat)\n",
    "print(stop)"
   ]
  },
  {
   "cell_type": "code",
   "execution_count": 15,
   "metadata": {
    "colab": {
     "base_uri": "https://localhost:8080/",
     "height": 204
    },
    "executionInfo": {
     "elapsed": 1010,
     "status": "ok",
     "timestamp": 1608539656761,
     "user": {
      "displayName": "Iqbal Pambudi",
      "photoUrl": "https://lh3.googleusercontent.com/a-/AOh14GifQ80kOvsClB_ZopSUHHqxbKQjCyMxIytxHe1n2Q=s64",
      "userId": "12180820000445360434"
     },
     "user_tz": -420
    },
    "id": "aMx2vSl80fiP",
    "outputId": "0f56dc10-561a-4f5a-9bbc-a4f07c03a1f7"
   },
   "outputs": [
    {
     "data": {
      "text/html": [
       "<div>\n",
       "<style scoped>\n",
       "    .dataframe tbody tr th:only-of-type {\n",
       "        vertical-align: middle;\n",
       "    }\n",
       "\n",
       "    .dataframe tbody tr th {\n",
       "        vertical-align: top;\n",
       "    }\n",
       "\n",
       "    .dataframe thead th {\n",
       "        text-align: right;\n",
       "    }\n",
       "</style>\n",
       "<table border=\"1\" class=\"dataframe\">\n",
       "  <thead>\n",
       "    <tr style=\"text-align: right;\">\n",
       "      <th></th>\n",
       "      <th>Label</th>\n",
       "      <th>Comment</th>\n",
       "      <th>Split</th>\n",
       "    </tr>\n",
       "  </thead>\n",
       "  <tbody>\n",
       "    <tr>\n",
       "      <th>45</th>\n",
       "      <td>0</td>\n",
       "      <td>prank</td>\n",
       "      <td>[paling, juga, prank]</td>\n",
       "    </tr>\n",
       "    <tr>\n",
       "      <th>231</th>\n",
       "      <td>0</td>\n",
       "      <td>manusia china dijadikan kelinci percobaan</td>\n",
       "      <td>[manusia, di, china, dijadikan, kelinci, perco...</td>\n",
       "    </tr>\n",
       "    <tr>\n",
       "      <th>11</th>\n",
       "      <td>0</td>\n",
       "      <td>no vaksin</td>\n",
       "      <td>[no, vaksin, pak]</td>\n",
       "    </tr>\n",
       "    <tr>\n",
       "      <th>41</th>\n",
       "      <td>0</td>\n",
       "      <td>pencitraan tok</td>\n",
       "      <td>[pencitraan, tok]</td>\n",
       "    </tr>\n",
       "    <tr>\n",
       "      <th>303</th>\n",
       "      <td>0</td>\n",
       "      <td>sembuh ko yaqin</td>\n",
       "      <td>[sembuh, sendiri, ko, yaqin, saya]</td>\n",
       "    </tr>\n",
       "    <tr>\n",
       "      <th>262</th>\n",
       "      <td>0</td>\n",
       "      <td>sumber vaksin tiongkok logika rakyat tiongkok ...</td>\n",
       "      <td>[sumber, vaksin, itu, datang, dari, tiongkok, ...</td>\n",
       "    </tr>\n",
       "    <tr>\n",
       "      <th>161</th>\n",
       "      <td>0</td>\n",
       "      <td>uji klinis dpr ketua dpr wakil rakyat dpr ketu...</td>\n",
       "      <td>[di, buat, uji, klinis, dulu, adalah, dpr, ket...</td>\n",
       "    </tr>\n",
       "    <tr>\n",
       "      <th>278</th>\n",
       "      <td>0</td>\n",
       "      <td>ngeri vaksin buatan china pake bendera indones...</td>\n",
       "      <td>[ngeri, vaksin, buatan, china, pake, bendera, ...</td>\n",
       "    </tr>\n",
       "    <tr>\n",
       "      <th>108</th>\n",
       "      <td>0</td>\n",
       "      <td>loh uda vaksin beli cina nih jd january berita...</td>\n",
       "      <td>[loh, katanya, uda, ada, vaksin, nya, beli, da...</td>\n",
       "    </tr>\n",
       "    <tr>\n",
       "      <th>344</th>\n",
       "      <td>0</td>\n",
       "      <td>bodoh dah tolol percaya corona</td>\n",
       "      <td>[cuma, orang, bodoh, dah, tolol, yang, percaya...</td>\n",
       "    </tr>\n",
       "    <tr>\n",
       "      <th>315</th>\n",
       "      <td>0</td>\n",
       "      <td>presidennya aja vaksin china aja vaksin nguran...</td>\n",
       "      <td>[presidennya, aja, dulu, di, vaksin, china, aj...</td>\n",
       "    </tr>\n",
       "    <tr>\n",
       "      <th>144</th>\n",
       "      <td>0</td>\n",
       "      <td>januari yaelah keburu sepi nih penghuni tewas</td>\n",
       "      <td>[januari, yaelah, keburu, sepi, nih, penghuni,...</td>\n",
       "    </tr>\n",
       "    <tr>\n",
       "      <th>101</th>\n",
       "      <td>0</td>\n",
       "      <td>positif perhari minim kadang kalo nunggu janua...</td>\n",
       "      <td>[kelamaan, pak, tiap, hari, ini, positif, oran...</td>\n",
       "    </tr>\n",
       "    <tr>\n",
       "      <th>88</th>\n",
       "      <td>0</td>\n",
       "      <td>jokowi uji coba</td>\n",
       "      <td>[harusnya, jokowi, dulu, di, uji, coba]</td>\n",
       "    </tr>\n",
       "    <tr>\n",
       "      <th>17</th>\n",
       "      <td>0</td>\n",
       "      <td>nda butuh vaksin kasi aja vaksin</td>\n",
       "      <td>[nda, butuh, vaksin, kasi, aja, yang, mau, di,...</td>\n",
       "    </tr>\n",
       "    <tr>\n",
       "      <th>89</th>\n",
       "      <td>0</td>\n",
       "      <td>januari banget keburu phk massal pengangguran ...</td>\n",
       "      <td>[januari, lama, banget, keburu, phk, massal, d...</td>\n",
       "    </tr>\n",
       "    <tr>\n",
       "      <th>292</th>\n",
       "      <td>0</td>\n",
       "      <td>jo gelem vaksin diapusiii tok</td>\n",
       "      <td>[jo, gelem, di, vaksin, diapusiii, tok]</td>\n",
       "    </tr>\n",
       "    <tr>\n",
       "      <th>163</th>\n",
       "      <td>0</td>\n",
       "      <td>sebenar permainan china kalo ngga salah korea ...</td>\n",
       "      <td>[sebenar, nya, ini, cuma, permainan, nya, chin...</td>\n",
       "    </tr>\n",
       "    <tr>\n",
       "      <th>5</th>\n",
       "      <td>0</td>\n",
       "      <td>disuntik vaksin januari presiden kantor stap p...</td>\n",
       "      <td>[yang, pertama, disuntik, vaksin, januari, ada...</td>\n",
       "    </tr>\n",
       "    <tr>\n",
       "      <th>260</th>\n",
       "      <td>0</td>\n",
       "      <td>pejabat dikasih vaksin jujur adil plissss</td>\n",
       "      <td>[pejabat, dikasih, vaksin, agar, jadi, jujur, ...</td>\n",
       "    </tr>\n",
       "    <tr>\n",
       "      <th>171</th>\n",
       "      <td>0</td>\n",
       "      <td>saran nih saran lho uu ite kalo pemerintah res...</td>\n",
       "      <td>[saran, nih, cuma, saran, lho, jangan, sampai,...</td>\n",
       "    </tr>\n",
       "    <tr>\n",
       "      <th>293</th>\n",
       "      <td>0</td>\n",
       "      <td>kyak film gundala takut</td>\n",
       "      <td>[kok, kyak, film, gundala, jadi, takut]</td>\n",
       "    </tr>\n",
       "    <tr>\n",
       "      <th>105</th>\n",
       "      <td>0</td>\n",
       "      <td>indonesia terserah</td>\n",
       "      <td>[indonesia, terserah]</td>\n",
       "    </tr>\n",
       "    <tr>\n",
       "      <th>304</th>\n",
       "      <td>0</td>\n",
       "      <td>hasil ujinya dipublikasikan</td>\n",
       "      <td>[hasil, ujinya, mana, kok, tidak, dipublikasikan]</td>\n",
       "    </tr>\n",
       "    <tr>\n",
       "      <th>18</th>\n",
       "      <td>0</td>\n",
       "      <td>president disuntik vaksin rakyat gak rakyat ga...</td>\n",
       "      <td>[president, dulu, disuntik, vaksin, baru, raky...</td>\n",
       "    </tr>\n",
       "    <tr>\n",
       "      <th>95</th>\n",
       "      <td>0</td>\n",
       "      <td>petinggi aja yaah cobain</td>\n",
       "      <td>[petinggi, nya, aja, dulu, yaah, yang, cobain]</td>\n",
       "    </tr>\n",
       "    <tr>\n",
       "      <th>341</th>\n",
       "      <td>0</td>\n",
       "      <td>dpr wakil rakyat tolong dpr wakilin uji coba w...</td>\n",
       "      <td>[dpr, wakil, rakyat, jadi, tolong, ya, dpr, wa...</td>\n",
       "    </tr>\n",
       "    <tr>\n",
       "      <th>150</th>\n",
       "      <td>0</td>\n",
       "      <td>palingg akalan aja covid pilek kalii</td>\n",
       "      <td>[palingg, akalan, aja, kena, covid, pilek, bia...</td>\n",
       "    </tr>\n",
       "    <tr>\n",
       "      <th>14</th>\n",
       "      <td>0</td>\n",
       "      <td>nggak nunggu ketiga izin bpom suntikan preside...</td>\n",
       "      <td>[sudah, lah, nggak, usah, nunggu, yang, ketiga...</td>\n",
       "    </tr>\n",
       "    <tr>\n",
       "      <th>247</th>\n",
       "      <td>0</td>\n",
       "      <td>gimana kalo uji cobanya wakil rakyat mewakili ...</td>\n",
       "      <td>[gimana, kalo, uji, cobanya, pada, wakil, raky...</td>\n",
       "    </tr>\n",
       "  </tbody>\n",
       "</table>\n",
       "</div>"
      ],
      "text/plain": [
       "     Label                                            Comment  \\\n",
       "45       0                                              prank   \n",
       "231      0          manusia china dijadikan kelinci percobaan   \n",
       "11       0                                          no vaksin   \n",
       "41       0                                     pencitraan tok   \n",
       "303      0                                    sembuh ko yaqin   \n",
       "262      0  sumber vaksin tiongkok logika rakyat tiongkok ...   \n",
       "161      0  uji klinis dpr ketua dpr wakil rakyat dpr ketu...   \n",
       "278      0  ngeri vaksin buatan china pake bendera indones...   \n",
       "108      0  loh uda vaksin beli cina nih jd january berita...   \n",
       "344      0                     bodoh dah tolol percaya corona   \n",
       "315      0  presidennya aja vaksin china aja vaksin nguran...   \n",
       "144      0      januari yaelah keburu sepi nih penghuni tewas   \n",
       "101      0  positif perhari minim kadang kalo nunggu janua...   \n",
       "88       0                                    jokowi uji coba   \n",
       "17       0                   nda butuh vaksin kasi aja vaksin   \n",
       "89       0  januari banget keburu phk massal pengangguran ...   \n",
       "292      0                      jo gelem vaksin diapusiii tok   \n",
       "163      0  sebenar permainan china kalo ngga salah korea ...   \n",
       "5        0  disuntik vaksin januari presiden kantor stap p...   \n",
       "260      0          pejabat dikasih vaksin jujur adil plissss   \n",
       "171      0  saran nih saran lho uu ite kalo pemerintah res...   \n",
       "293      0                            kyak film gundala takut   \n",
       "105      0                                 indonesia terserah   \n",
       "304      0                        hasil ujinya dipublikasikan   \n",
       "18       0  president disuntik vaksin rakyat gak rakyat ga...   \n",
       "95       0                           petinggi aja yaah cobain   \n",
       "341      0  dpr wakil rakyat tolong dpr wakilin uji coba w...   \n",
       "150      0               palingg akalan aja covid pilek kalii   \n",
       "14       0  nggak nunggu ketiga izin bpom suntikan preside...   \n",
       "247      0  gimana kalo uji cobanya wakil rakyat mewakili ...   \n",
       "\n",
       "                                                 Split  \n",
       "45                               [paling, juga, prank]  \n",
       "231  [manusia, di, china, dijadikan, kelinci, perco...  \n",
       "11                                   [no, vaksin, pak]  \n",
       "41                                   [pencitraan, tok]  \n",
       "303                 [sembuh, sendiri, ko, yaqin, saya]  \n",
       "262  [sumber, vaksin, itu, datang, dari, tiongkok, ...  \n",
       "161  [di, buat, uji, klinis, dulu, adalah, dpr, ket...  \n",
       "278  [ngeri, vaksin, buatan, china, pake, bendera, ...  \n",
       "108  [loh, katanya, uda, ada, vaksin, nya, beli, da...  \n",
       "344  [cuma, orang, bodoh, dah, tolol, yang, percaya...  \n",
       "315  [presidennya, aja, dulu, di, vaksin, china, aj...  \n",
       "144  [januari, yaelah, keburu, sepi, nih, penghuni,...  \n",
       "101  [kelamaan, pak, tiap, hari, ini, positif, oran...  \n",
       "88             [harusnya, jokowi, dulu, di, uji, coba]  \n",
       "17   [nda, butuh, vaksin, kasi, aja, yang, mau, di,...  \n",
       "89   [januari, lama, banget, keburu, phk, massal, d...  \n",
       "292            [jo, gelem, di, vaksin, diapusiii, tok]  \n",
       "163  [sebenar, nya, ini, cuma, permainan, nya, chin...  \n",
       "5    [yang, pertama, disuntik, vaksin, januari, ada...  \n",
       "260  [pejabat, dikasih, vaksin, agar, jadi, jujur, ...  \n",
       "171  [saran, nih, cuma, saran, lho, jangan, sampai,...  \n",
       "293            [kok, kyak, film, gundala, jadi, takut]  \n",
       "105                              [indonesia, terserah]  \n",
       "304  [hasil, ujinya, mana, kok, tidak, dipublikasikan]  \n",
       "18   [president, dulu, disuntik, vaksin, baru, raky...  \n",
       "95      [petinggi, nya, aja, dulu, yaah, yang, cobain]  \n",
       "341  [dpr, wakil, rakyat, jadi, tolong, ya, dpr, wa...  \n",
       "150  [palingg, akalan, aja, kena, covid, pilek, bia...  \n",
       "14   [sudah, lah, nggak, usah, nunggu, yang, ketiga...  \n",
       "247  [gimana, kalo, uji, cobanya, pada, wakil, raky...  "
      ]
     },
     "execution_count": 15,
     "metadata": {},
     "output_type": "execute_result"
    }
   ],
   "source": [
    "# lakukan pada data kita\n",
    "\n",
    "review = []\n",
    "for index, row in df_review.iterrows():\n",
    "    review.append(stopword.remove(row[\"Comment\"]))\n",
    "    \n",
    "df_review[\"Comment\"] = review\n",
    "df_review.head(30)"
   ]
  },
  {
   "cell_type": "code",
   "execution_count": 16,
   "metadata": {
    "colab": {
     "base_uri": "https://localhost:8080/"
    },
    "executionInfo": {
     "elapsed": 957,
     "status": "ok",
     "timestamp": 1608539664687,
     "user": {
      "displayName": "Iqbal Pambudi",
      "photoUrl": "https://lh3.googleusercontent.com/a-/AOh14GifQ80kOvsClB_ZopSUHHqxbKQjCyMxIytxHe1n2Q=s64",
      "userId": "12180820000445360434"
     },
     "user_tz": -420
    },
    "id": "JtbQQB8V07uO",
    "outputId": "251b7910-1e16-4822-fca8-7e72ec4bb53c"
   },
   "outputs": [
    {
     "name": "stdout",
     "output_type": "stream",
     "text": [
      "liverpool adalah klub hebat tidak seperti si itu wkwkwk\n"
     ]
    }
   ],
   "source": [
    "from Sastrawi.Stemmer.StemmerFactory import StemmerFactory\n",
    "factory = StemmerFactory()\n",
    "stemmer = factory.create_stemmer()\n",
    "\n",
    "# contoh\n",
    "kalimat = 'Liverpool adalah klub hebat tidak seperti si itu WkwkWK'\n",
    "katadasar = stemmer.stem(kalimat)\n",
    " \n",
    "print(katadasar)"
   ]
  },
  {
   "cell_type": "code",
   "execution_count": 17,
   "metadata": {
    "colab": {
     "base_uri": "https://localhost:8080/",
     "height": 204
    },
    "executionInfo": {
     "elapsed": 101962,
     "status": "ok",
     "timestamp": 1608539773852,
     "user": {
      "displayName": "Iqbal Pambudi",
      "photoUrl": "https://lh3.googleusercontent.com/a-/AOh14GifQ80kOvsClB_ZopSUHHqxbKQjCyMxIytxHe1n2Q=s64",
      "userId": "12180820000445360434"
     },
     "user_tz": -420
    },
    "id": "RtIa8C__1FHE",
    "outputId": "7705da26-0cb1-4195-c80d-cd00dc07cfd5"
   },
   "outputs": [
    {
     "data": {
      "text/html": [
       "<div>\n",
       "<style scoped>\n",
       "    .dataframe tbody tr th:only-of-type {\n",
       "        vertical-align: middle;\n",
       "    }\n",
       "\n",
       "    .dataframe tbody tr th {\n",
       "        vertical-align: top;\n",
       "    }\n",
       "\n",
       "    .dataframe thead th {\n",
       "        text-align: right;\n",
       "    }\n",
       "</style>\n",
       "<table border=\"1\" class=\"dataframe\">\n",
       "  <thead>\n",
       "    <tr style=\"text-align: right;\">\n",
       "      <th></th>\n",
       "      <th>Label</th>\n",
       "      <th>Comment</th>\n",
       "      <th>Split</th>\n",
       "    </tr>\n",
       "  </thead>\n",
       "  <tbody>\n",
       "    <tr>\n",
       "      <th>45</th>\n",
       "      <td>0</td>\n",
       "      <td>prank</td>\n",
       "      <td>[paling, juga, prank]</td>\n",
       "    </tr>\n",
       "    <tr>\n",
       "      <th>231</th>\n",
       "      <td>0</td>\n",
       "      <td>manusia china jadi kelinci coba</td>\n",
       "      <td>[manusia, di, china, dijadikan, kelinci, perco...</td>\n",
       "    </tr>\n",
       "    <tr>\n",
       "      <th>11</th>\n",
       "      <td>0</td>\n",
       "      <td>no vaksin</td>\n",
       "      <td>[no, vaksin, pak]</td>\n",
       "    </tr>\n",
       "    <tr>\n",
       "      <th>41</th>\n",
       "      <td>0</td>\n",
       "      <td>citra tok</td>\n",
       "      <td>[pencitraan, tok]</td>\n",
       "    </tr>\n",
       "    <tr>\n",
       "      <th>303</th>\n",
       "      <td>0</td>\n",
       "      <td>sembuh ko yaqin</td>\n",
       "      <td>[sembuh, sendiri, ko, yaqin, saya]</td>\n",
       "    </tr>\n",
       "  </tbody>\n",
       "</table>\n",
       "</div>"
      ],
      "text/plain": [
       "     Label                          Comment  \\\n",
       "45       0                            prank   \n",
       "231      0  manusia china jadi kelinci coba   \n",
       "11       0                        no vaksin   \n",
       "41       0                        citra tok   \n",
       "303      0                  sembuh ko yaqin   \n",
       "\n",
       "                                                 Split  \n",
       "45                               [paling, juga, prank]  \n",
       "231  [manusia, di, china, dijadikan, kelinci, perco...  \n",
       "11                                   [no, vaksin, pak]  \n",
       "41                                   [pencitraan, tok]  \n",
       "303                 [sembuh, sendiri, ko, yaqin, saya]  "
      ]
     },
     "execution_count": 17,
     "metadata": {},
     "output_type": "execute_result"
    }
   ],
   "source": [
    "# implementasi pada data kita\n",
    "review = []\n",
    "for index, row in df_review.iterrows():\n",
    "    review.append(stemmer.stem(row[\"Comment\"]))\n",
    "    \n",
    "df_review[\"Comment\"] = review\n",
    "df_review.head()"
   ]
  },
  {
   "cell_type": "markdown",
   "metadata": {
    "id": "2ZeZOwWafwXS"
   },
   "source": [
    "## Pembobotan Kata TF-IDF"
   ]
  },
  {
   "cell_type": "code",
   "execution_count": 18,
   "metadata": {
    "executionInfo": {
     "elapsed": 892,
     "status": "ok",
     "timestamp": 1608539813031,
     "user": {
      "displayName": "Iqbal Pambudi",
      "photoUrl": "https://lh3.googleusercontent.com/a-/AOh14GifQ80kOvsClB_ZopSUHHqxbKQjCyMxIytxHe1n2Q=s64",
      "userId": "12180820000445360434"
     },
     "user_tz": -420
    },
    "id": "_cnP6Qpc1xWl"
   },
   "outputs": [],
   "source": [
    "from sklearn.model_selection import train_test_split\n",
    "\n",
    "X_train, X_test, y_train, y_test = train_test_split(df_review['Comment'], df_review['Label'], \n",
    "                                                    test_size=0.1, stratify=df_review['Label'], random_state=30)"
   ]
  },
  {
   "cell_type": "code",
   "execution_count": 19,
   "metadata": {
    "colab": {
     "base_uri": "https://localhost:8080/"
    },
    "executionInfo": {
     "elapsed": 974,
     "status": "ok",
     "timestamp": 1608539817669,
     "user": {
      "displayName": "Iqbal Pambudi",
      "photoUrl": "https://lh3.googleusercontent.com/a-/AOh14GifQ80kOvsClB_ZopSUHHqxbKQjCyMxIytxHe1n2Q=s64",
      "userId": "12180820000445360434"
     },
     "user_tz": -420
    },
    "id": "evjYQ65n1_uO",
    "outputId": "f5e7b5ca-ad0f-4b8a-ade5-e5b7285b3e28"
   },
   "outputs": [
    {
     "data": {
      "text/plain": [
       "array([[0.        , 0.49248889, 0.        , 0.40264194, 0.77157901,\n",
       "        0.        ],\n",
       "       [0.77157901, 0.49248889, 0.        , 0.40264194, 0.        ,\n",
       "        0.        ],\n",
       "       [0.        , 0.49248889, 0.        , 0.40264194, 0.        ,\n",
       "        0.77157901],\n",
       "       [0.        , 0.        , 0.88654763, 0.46263733, 0.        ,\n",
       "        0.        ]])"
      ]
     },
     "execution_count": 19,
     "metadata": {},
     "output_type": "execute_result"
    }
   ],
   "source": [
    "from sklearn.feature_extraction.text import TfidfVectorizer\n",
    "\n",
    "corpus = [\n",
    "    'Pusing satu kali',\n",
    "    'Pusing dua kali',\n",
    "    'Pusing tiga kali',\n",
    "    'Pusing lagi']\n",
    "\n",
    "vectorizer = TfidfVectorizer()\n",
    "\n",
    "# contoh\n",
    "X = vectorizer.fit_transform(corpus)\n",
    "X.toarray()"
   ]
  },
  {
   "cell_type": "code",
   "execution_count": 20,
   "metadata": {
    "colab": {
     "base_uri": "https://localhost:8080/"
    },
    "executionInfo": {
     "elapsed": 986,
     "status": "ok",
     "timestamp": 1608539824331,
     "user": {
      "displayName": "Iqbal Pambudi",
      "photoUrl": "https://lh3.googleusercontent.com/a-/AOh14GifQ80kOvsClB_ZopSUHHqxbKQjCyMxIytxHe1n2Q=s64",
      "userId": "12180820000445360434"
     },
     "user_tz": -420
    },
    "id": "I5Sc_nto2I_q",
    "outputId": "91bc3bc8-2898-44eb-b42e-22474e591d76"
   },
   "outputs": [
    {
     "name": "stdout",
     "output_type": "stream",
     "text": [
      "(702, 1757)\n",
      "(78, 1757)\n"
     ]
    }
   ],
   "source": [
    "# implementasi pada dokumen kita\n",
    "X_train = vectorizer.fit_transform(X_train)\n",
    "X_test = vectorizer.transform(X_test)\n",
    "\n",
    "print(X_train.shape)\n",
    "print(X_test.shape)"
   ]
  },
  {
   "cell_type": "code",
   "execution_count": 21,
   "metadata": {
    "executionInfo": {
     "elapsed": 1063,
     "status": "ok",
     "timestamp": 1608539830874,
     "user": {
      "displayName": "Iqbal Pambudi",
      "photoUrl": "https://lh3.googleusercontent.com/a-/AOh14GifQ80kOvsClB_ZopSUHHqxbKQjCyMxIytxHe1n2Q=s64",
      "userId": "12180820000445360434"
     },
     "user_tz": -420
    },
    "id": "Q4Yjroal2URQ"
   },
   "outputs": [],
   "source": [
    "def preprocess_data(data):\n",
    "    # cleansing data\n",
    "    data = cleansing(data)\n",
    "    \n",
    "    # hapus stopwords\n",
    "    factory = StopWordRemoverFactory()\n",
    "    stopword = factory.create_stop_word_remover()\n",
    "    data = stopword.remove(data)\n",
    "    \n",
    "    # stemming\n",
    "    factory = StemmerFactory()\n",
    "    stemmer = factory.create_stemmer()\n",
    "    data = stemmer.stem(data)\n",
    "    \n",
    "    # count vectorizer\n",
    "    data = vectorizer.transform([data])\n",
    "    \n",
    "    return data"
   ]
  },
  {
   "cell_type": "markdown",
   "metadata": {
    "id": "SqlDlfXDf_8N"
   },
   "source": [
    "## Support Vector Machine "
   ]
  },
  {
   "cell_type": "code",
   "execution_count": 22,
   "metadata": {
    "executionInfo": {
     "elapsed": 969,
     "status": "ok",
     "timestamp": 1608539836541,
     "user": {
      "displayName": "Iqbal Pambudi",
      "photoUrl": "https://lh3.googleusercontent.com/a-/AOh14GifQ80kOvsClB_ZopSUHHqxbKQjCyMxIytxHe1n2Q=s64",
      "userId": "12180820000445360434"
     },
     "user_tz": -420
    },
    "id": "4L5w44LO2Z24"
   },
   "outputs": [],
   "source": [
    "from sklearn import svm\n",
    "from sklearn.model_selection import cross_val_score\n",
    "\n",
    "clf = svm.SVC(kernel=\"rbf\")\n",
    "\n",
    "#cross_val_score(clf, X_train, y_train, cv=10)"
   ]
  },
  {
   "cell_type": "code",
   "execution_count": 23,
   "metadata": {
    "executionInfo": {
     "elapsed": 964,
     "status": "ok",
     "timestamp": 1608539840305,
     "user": {
      "displayName": "Iqbal Pambudi",
      "photoUrl": "https://lh3.googleusercontent.com/a-/AOh14GifQ80kOvsClB_ZopSUHHqxbKQjCyMxIytxHe1n2Q=s64",
      "userId": "12180820000445360434"
     },
     "user_tz": -420
    },
    "id": "eeeVLovn2eOn"
   },
   "outputs": [],
   "source": [
    "# lakukan prediksi pada data test\n",
    "clf.fit(X_train,y_train)\n",
    "predict = clf.predict(X_test)"
   ]
  },
  {
   "cell_type": "code",
   "execution_count": 24,
   "metadata": {
    "executionInfo": {
     "elapsed": 914,
     "status": "ok",
     "timestamp": 1608539843626,
     "user": {
      "displayName": "Iqbal Pambudi",
      "photoUrl": "https://lh3.googleusercontent.com/a-/AOh14GifQ80kOvsClB_ZopSUHHqxbKQjCyMxIytxHe1n2Q=s64",
      "userId": "12180820000445360434"
     },
     "user_tz": -420
    },
    "id": "esWHNp9y2jHM"
   },
   "outputs": [],
   "source": [
    "# import library evaluation\n",
    "from sklearn.metrics import f1_score, recall_score, precision_score, confusion_matrix, accuracy_score"
   ]
  },
  {
   "cell_type": "code",
   "execution_count": 25,
   "metadata": {
    "colab": {
     "base_uri": "https://localhost:8080/"
    },
    "executionInfo": {
     "elapsed": 1010,
     "status": "ok",
     "timestamp": 1608539846589,
     "user": {
      "displayName": "Iqbal Pambudi",
      "photoUrl": "https://lh3.googleusercontent.com/a-/AOh14GifQ80kOvsClB_ZopSUHHqxbKQjCyMxIytxHe1n2Q=s64",
      "userId": "12180820000445360434"
     },
     "user_tz": -420
    },
    "id": "gtiSOpzd2lzR",
    "outputId": "b052c5b7-a0fb-4c77-9644-10ce734b58ce"
   },
   "outputs": [
    {
     "name": "stdout",
     "output_type": "stream",
     "text": [
      "f1 score hasil prediksi adalah: \n",
      "0.8589743589743589\n",
      "accuracy score hasil prediksi adalah: \n",
      "0.8589743589743589\n",
      "precision score hasil prediksi adalah: \n",
      "0.8589743589743589\n",
      "recall score hasil prediksi adalah: \n",
      "0.8589743589743589\n"
     ]
    }
   ],
   "source": [
    "# f1_score\n",
    "print(\"f1 score hasil prediksi adalah: \")\n",
    "print(f1_score(y_test, predict,average='micro'))\n",
    "\n",
    "# accuracy score\n",
    "print(\"accuracy score hasil prediksi adalah: \")\n",
    "print(accuracy_score(y_test, predict))\n",
    "\n",
    "# precision score\n",
    "print(\"precision score hasil prediksi adalah: \")\n",
    "print(precision_score(y_test, predict,average='micro'))\n",
    "\n",
    "# recall score\n",
    "print(\"recall score hasil prediksi adalah: \")\n",
    "print(recall_score(y_test, predict,average='micro'))"
   ]
  },
  {
   "cell_type": "markdown",
   "metadata": {
    "id": "jEMlsvAIgGUs"
   },
   "source": [
    "## Confusion Matrix"
   ]
  },
  {
   "cell_type": "code",
   "execution_count": 26,
   "metadata": {
    "colab": {
     "base_uri": "https://localhost:8080/"
    },
    "executionInfo": {
     "elapsed": 961,
     "status": "ok",
     "timestamp": 1608525738898,
     "user": {
      "displayName": "Iqbal Pambudi",
      "photoUrl": "https://lh3.googleusercontent.com/a-/AOh14GifQ80kOvsClB_ZopSUHHqxbKQjCyMxIytxHe1n2Q=s64",
      "userId": "12180820000445360434"
     },
     "user_tz": -420
    },
    "id": "PNjsMH4B2s60",
    "outputId": "42afeb14-7423-4eca-c763-ae550d91b5ad"
   },
   "outputs": [
    {
     "data": {
      "text/plain": [
       "array([[24,  2,  0],\n",
       "       [ 7, 19,  0],\n",
       "       [ 2,  0, 24]])"
      ]
     },
     "execution_count": 26,
     "metadata": {},
     "output_type": "execute_result"
    }
   ],
   "source": [
    "# confusion matrix\n",
    "# tn, fp, fn, tp = confusion_matrix(y_test, predict).ravel()\n",
    "# print(tn, fp, fn, tp)\n",
    "\n",
    "confusion_matrix(y_test, predict)"
   ]
  },
  {
   "cell_type": "markdown",
   "metadata": {
    "id": "Md4_bNzb2wSR"
   },
   "source": [
    "## Testing Sentiment"
   ]
  },
  {
   "cell_type": "code",
   "execution_count": 31,
   "metadata": {
    "executionInfo": {
     "elapsed": 1008,
     "status": "ok",
     "timestamp": 1608525779060,
     "user": {
      "displayName": "Iqbal Pambudi",
      "photoUrl": "https://lh3.googleusercontent.com/a-/AOh14GifQ80kOvsClB_ZopSUHHqxbKQjCyMxIytxHe1n2Q=s64",
      "userId": "12180820000445360434"
     },
     "user_tz": -420
    },
    "id": "qPeE3vAR20Kt"
   },
   "outputs": [],
   "source": [
    "comment_positif = \"dengan adanya vaksin pandemi ini segera selesai\"\n",
    "comment_negatif = \"semoga mendukung vaksin covid\""
   ]
  },
  {
   "cell_type": "code",
   "execution_count": 27,
   "metadata": {},
   "outputs": [
    {
     "data": {
      "text/html": [
       "<div>\n",
       "<style scoped>\n",
       "    .dataframe tbody tr th:only-of-type {\n",
       "        vertical-align: middle;\n",
       "    }\n",
       "\n",
       "    .dataframe tbody tr th {\n",
       "        vertical-align: top;\n",
       "    }\n",
       "\n",
       "    .dataframe thead th {\n",
       "        text-align: right;\n",
       "    }\n",
       "</style>\n",
       "<table border=\"1\" class=\"dataframe\">\n",
       "  <thead>\n",
       "    <tr style=\"text-align: right;\">\n",
       "      <th></th>\n",
       "      <th>Comment</th>\n",
       "      <th>Unnamed: 1</th>\n",
       "    </tr>\n",
       "  </thead>\n",
       "  <tbody>\n",
       "    <tr>\n",
       "      <th>946</th>\n",
       "      <td>Alhamdulillah datang vaksinnya</td>\n",
       "      <td>NaN</td>\n",
       "    </tr>\n",
       "    <tr>\n",
       "      <th>947</th>\n",
       "      <td>4</td>\n",
       "      <td>NaN</td>\n",
       "    </tr>\n",
       "    <tr>\n",
       "      <th>948</th>\n",
       "      <td>Huhu komen ketiga</td>\n",
       "      <td>NaN</td>\n",
       "    </tr>\n",
       "    <tr>\n",
       "      <th>949</th>\n",
       "      <td>Wah pertama</td>\n",
       "      <td>NaN</td>\n",
       "    </tr>\n",
       "    <tr>\n",
       "      <th>950</th>\n",
       "      <td>Idem</td>\n",
       "      <td>NaN</td>\n",
       "    </tr>\n",
       "  </tbody>\n",
       "</table>\n",
       "</div>"
      ],
      "text/plain": [
       "                            Comment  Unnamed: 1\n",
       "946  Alhamdulillah datang vaksinnya         NaN\n",
       "947                               4         NaN\n",
       "948               Huhu komen ketiga         NaN\n",
       "949                     Wah pertama         NaN\n",
       "950                            Idem         NaN"
      ]
     },
     "execution_count": 27,
     "metadata": {},
     "output_type": "execute_result"
    }
   ],
   "source": [
    "testing = pd.read_csv(\"../dataset/raw/datatest.csv\")\n",
    "testing.tail()"
   ]
  },
  {
   "cell_type": "code",
   "execution_count": 28,
   "metadata": {},
   "outputs": [],
   "source": [
    "import string, re\n",
    "\n",
    "def cleansing(data):\n",
    "    # lower text\n",
    "    data = data.lower()\n",
    "    \n",
    "    # hapus punctuation\n",
    "    remove = string.punctuation\n",
    "    translator = str.maketrans(remove, ' '*len(remove))\n",
    "    data = data.translate(translator)\n",
    "    \n",
    "    # remove ASCII dan unicode\n",
    "    data = data.encode('ascii', 'ignore').decode('utf-8')\n",
    "    data = re.sub(r'[^\\x00-\\x7f]',r'', data)\n",
    "    \n",
    "    # remove newline\n",
    "    data = data.replace('\\n', ' ')\n",
    "    \n",
    "    return data"
   ]
  },
  {
   "cell_type": "code",
   "execution_count": 30,
   "metadata": {},
   "outputs": [
    {
     "data": {
      "text/html": [
       "<div>\n",
       "<style scoped>\n",
       "    .dataframe tbody tr th:only-of-type {\n",
       "        vertical-align: middle;\n",
       "    }\n",
       "\n",
       "    .dataframe tbody tr th {\n",
       "        vertical-align: top;\n",
       "    }\n",
       "\n",
       "    .dataframe thead th {\n",
       "        text-align: right;\n",
       "    }\n",
       "</style>\n",
       "<table border=\"1\" class=\"dataframe\">\n",
       "  <thead>\n",
       "    <tr style=\"text-align: right;\">\n",
       "      <th></th>\n",
       "      <th>Comment</th>\n",
       "      <th>Unnamed: 1</th>\n",
       "      <th>Comment_Clean</th>\n",
       "    </tr>\n",
       "  </thead>\n",
       "  <tbody>\n",
       "    <tr>\n",
       "      <th>946</th>\n",
       "      <td>Alhamdulillah datang vaksinnya</td>\n",
       "      <td>NaN</td>\n",
       "      <td>alhamdulillah datang vaksinnya</td>\n",
       "    </tr>\n",
       "    <tr>\n",
       "      <th>947</th>\n",
       "      <td>4</td>\n",
       "      <td>NaN</td>\n",
       "      <td>4</td>\n",
       "    </tr>\n",
       "    <tr>\n",
       "      <th>948</th>\n",
       "      <td>Huhu komen ketiga</td>\n",
       "      <td>NaN</td>\n",
       "      <td>huhu komen ketiga</td>\n",
       "    </tr>\n",
       "    <tr>\n",
       "      <th>949</th>\n",
       "      <td>Wah pertama</td>\n",
       "      <td>NaN</td>\n",
       "      <td>wah pertama</td>\n",
       "    </tr>\n",
       "    <tr>\n",
       "      <th>950</th>\n",
       "      <td>Idem</td>\n",
       "      <td>NaN</td>\n",
       "      <td>idem</td>\n",
       "    </tr>\n",
       "  </tbody>\n",
       "</table>\n",
       "</div>"
      ],
      "text/plain": [
       "                            Comment  Unnamed: 1  \\\n",
       "946  Alhamdulillah datang vaksinnya         NaN   \n",
       "947                               4         NaN   \n",
       "948               Huhu komen ketiga         NaN   \n",
       "949                     Wah pertama         NaN   \n",
       "950                            Idem         NaN   \n",
       "\n",
       "                      Comment_Clean  \n",
       "946  alhamdulillah datang vaksinnya  \n",
       "947                               4  \n",
       "948               huhu komen ketiga  \n",
       "949                     wah pertama  \n",
       "950                            idem  "
      ]
     },
     "execution_count": 30,
     "metadata": {},
     "output_type": "execute_result"
    }
   ],
   "source": [
    "review = []\n",
    "for index, row in testing.iterrows():\n",
    "    review.append(cleansing(row[\"Comment\"]))\n",
    "    \n",
    "testing[\"Comment_Clean\"] = review\n",
    "testing.tail()"
   ]
  },
  {
   "cell_type": "code",
   "execution_count": null,
   "metadata": {},
   "outputs": [],
   "source": []
  },
  {
   "cell_type": "code",
   "execution_count": 56,
   "metadata": {
    "scrolled": true
   },
   "outputs": [
    {
     "name": "stdout",
     "output_type": "stream",
     "text": [
      "Positif : 215\n",
      "Netral : 450\n",
      "Negatif : 286\n"
     ]
    }
   ],
   "source": [
    "positif = 0\n",
    "netral = 0\n",
    "negatif = 0\n",
    "for i in testing['Comment']:\n",
    "    if clf.predict(preprocess_data(i)) == [2]:\n",
    "        positif+=1\n",
    "    elif clf.predict(preprocess_data(i)) == [1]:\n",
    "        netral+=1\n",
    "    else:\n",
    "        negatif+=1\n",
    "\n"
   ]
  },
  {
   "cell_type": "code",
   "execution_count": 62,
   "metadata": {},
   "outputs": [
    {
     "name": "stdout",
     "output_type": "stream",
     "text": [
      "Banyak Data = 951\n",
      "Positif : 215 23 %\n",
      "Netral : 450 47 %\n",
      "Negatif : 286 30 %\n"
     ]
    }
   ],
   "source": [
    "print('Banyak Data =',len(testing))\n",
    "print('Positif :',positif,round(positif/len(testing)*100),\"%\")\n",
    "print('Netral :',netral,round(netral/len(testing)*100),\"%\")\n",
    "print('Negatif :',negatif,round(negatif/len(testing)*100),\"%\")"
   ]
  },
  {
   "cell_type": "code",
   "execution_count": 33,
   "metadata": {
    "colab": {
     "base_uri": "https://localhost:8080/"
    },
    "collapsed": true,
    "executionInfo": {
     "elapsed": 1072,
     "status": "ok",
     "timestamp": 1608525747636,
     "user": {
      "displayName": "Iqbal Pambudi",
      "photoUrl": "https://lh3.googleusercontent.com/a-/AOh14GifQ80kOvsClB_ZopSUHHqxbKQjCyMxIytxHe1n2Q=s64",
      "userId": "12180820000445360434"
     },
     "user_tz": -420
    },
    "id": "Vv3w4Mhl3Gz7",
    "outputId": "13e130a6-027d-4d01-b2c1-93dbd0de9fa4"
   },
   "outputs": [
    {
     "ename": "ValueError",
     "evalue": "could not convert string to float: '  (0, 1673)\\t0.25915694189484473\\n  (0, 1402)\\t0.7015215322680588\\n  (0, 1195)\\t0.6638563242389026'",
     "output_type": "error",
     "traceback": [
      "\u001b[0;31m---------------------------------------------------------------------------\u001b[0m",
      "\u001b[0;31mValueError\u001b[0m                                Traceback (most recent call last)",
      "\u001b[0;32m<ipython-input-33-c8253be992e3>\u001b[0m in \u001b[0;36m<module>\u001b[0;34m\u001b[0m\n\u001b[0;32m----> 1\u001b[0;31m \u001b[0mclf\u001b[0m\u001b[0;34m.\u001b[0m\u001b[0mpredict\u001b[0m\u001b[0;34m(\u001b[0m\u001b[0mstr\u001b[0m\u001b[0;34m(\u001b[0m\u001b[0mpreprocess_data\u001b[0m\u001b[0;34m(\u001b[0m\u001b[0mcomment_positif\u001b[0m\u001b[0;34m)\u001b[0m\u001b[0;34m)\u001b[0m\u001b[0;34m)\u001b[0m\u001b[0;34m\u001b[0m\u001b[0;34m\u001b[0m\u001b[0m\n\u001b[0m",
      "\u001b[0;32m~/.local/lib/python3.6/site-packages/sklearn/svm/_base.py\u001b[0m in \u001b[0;36mpredict\u001b[0;34m(self, X)\u001b[0m\n\u001b[1;32m    613\u001b[0m             \u001b[0my\u001b[0m \u001b[0;34m=\u001b[0m \u001b[0mnp\u001b[0m\u001b[0;34m.\u001b[0m\u001b[0margmax\u001b[0m\u001b[0;34m(\u001b[0m\u001b[0mself\u001b[0m\u001b[0;34m.\u001b[0m\u001b[0mdecision_function\u001b[0m\u001b[0;34m(\u001b[0m\u001b[0mX\u001b[0m\u001b[0;34m)\u001b[0m\u001b[0;34m,\u001b[0m \u001b[0maxis\u001b[0m\u001b[0;34m=\u001b[0m\u001b[0;36m1\u001b[0m\u001b[0;34m)\u001b[0m\u001b[0;34m\u001b[0m\u001b[0;34m\u001b[0m\u001b[0m\n\u001b[1;32m    614\u001b[0m         \u001b[0;32melse\u001b[0m\u001b[0;34m:\u001b[0m\u001b[0;34m\u001b[0m\u001b[0;34m\u001b[0m\u001b[0m\n\u001b[0;32m--> 615\u001b[0;31m             \u001b[0my\u001b[0m \u001b[0;34m=\u001b[0m \u001b[0msuper\u001b[0m\u001b[0;34m(\u001b[0m\u001b[0;34m)\u001b[0m\u001b[0;34m.\u001b[0m\u001b[0mpredict\u001b[0m\u001b[0;34m(\u001b[0m\u001b[0mX\u001b[0m\u001b[0;34m)\u001b[0m\u001b[0;34m\u001b[0m\u001b[0;34m\u001b[0m\u001b[0m\n\u001b[0m\u001b[1;32m    616\u001b[0m         \u001b[0;32mreturn\u001b[0m \u001b[0mself\u001b[0m\u001b[0;34m.\u001b[0m\u001b[0mclasses_\u001b[0m\u001b[0;34m.\u001b[0m\u001b[0mtake\u001b[0m\u001b[0;34m(\u001b[0m\u001b[0mnp\u001b[0m\u001b[0;34m.\u001b[0m\u001b[0masarray\u001b[0m\u001b[0;34m(\u001b[0m\u001b[0my\u001b[0m\u001b[0;34m,\u001b[0m \u001b[0mdtype\u001b[0m\u001b[0;34m=\u001b[0m\u001b[0mnp\u001b[0m\u001b[0;34m.\u001b[0m\u001b[0mintp\u001b[0m\u001b[0;34m)\u001b[0m\u001b[0;34m)\u001b[0m\u001b[0;34m\u001b[0m\u001b[0;34m\u001b[0m\u001b[0m\n\u001b[1;32m    617\u001b[0m \u001b[0;34m\u001b[0m\u001b[0m\n",
      "\u001b[0;32m~/.local/lib/python3.6/site-packages/sklearn/svm/_base.py\u001b[0m in \u001b[0;36mpredict\u001b[0;34m(self, X)\u001b[0m\n\u001b[1;32m    331\u001b[0m         \u001b[0my_pred\u001b[0m \u001b[0;34m:\u001b[0m \u001b[0mndarray\u001b[0m \u001b[0mof\u001b[0m \u001b[0mshape\u001b[0m \u001b[0;34m(\u001b[0m\u001b[0mn_samples\u001b[0m\u001b[0;34m,\u001b[0m\u001b[0;34m)\u001b[0m\u001b[0;34m\u001b[0m\u001b[0;34m\u001b[0m\u001b[0m\n\u001b[1;32m    332\u001b[0m         \"\"\"\n\u001b[0;32m--> 333\u001b[0;31m         \u001b[0mX\u001b[0m \u001b[0;34m=\u001b[0m \u001b[0mself\u001b[0m\u001b[0;34m.\u001b[0m\u001b[0m_validate_for_predict\u001b[0m\u001b[0;34m(\u001b[0m\u001b[0mX\u001b[0m\u001b[0;34m)\u001b[0m\u001b[0;34m\u001b[0m\u001b[0;34m\u001b[0m\u001b[0m\n\u001b[0m\u001b[1;32m    334\u001b[0m         \u001b[0mpredict\u001b[0m \u001b[0;34m=\u001b[0m \u001b[0mself\u001b[0m\u001b[0;34m.\u001b[0m\u001b[0m_sparse_predict\u001b[0m \u001b[0;32mif\u001b[0m \u001b[0mself\u001b[0m\u001b[0;34m.\u001b[0m\u001b[0m_sparse\u001b[0m \u001b[0;32melse\u001b[0m \u001b[0mself\u001b[0m\u001b[0;34m.\u001b[0m\u001b[0m_dense_predict\u001b[0m\u001b[0;34m\u001b[0m\u001b[0;34m\u001b[0m\u001b[0m\n\u001b[1;32m    335\u001b[0m         \u001b[0;32mreturn\u001b[0m \u001b[0mpredict\u001b[0m\u001b[0;34m(\u001b[0m\u001b[0mX\u001b[0m\u001b[0;34m)\u001b[0m\u001b[0;34m\u001b[0m\u001b[0;34m\u001b[0m\u001b[0m\n",
      "\u001b[0;32m~/.local/lib/python3.6/site-packages/sklearn/svm/_base.py\u001b[0m in \u001b[0;36m_validate_for_predict\u001b[0;34m(self, X)\u001b[0m\n\u001b[1;32m    464\u001b[0m         \u001b[0;32mif\u001b[0m \u001b[0;32mnot\u001b[0m \u001b[0mcallable\u001b[0m\u001b[0;34m(\u001b[0m\u001b[0mself\u001b[0m\u001b[0;34m.\u001b[0m\u001b[0mkernel\u001b[0m\u001b[0;34m)\u001b[0m\u001b[0;34m:\u001b[0m\u001b[0;34m\u001b[0m\u001b[0;34m\u001b[0m\u001b[0m\n\u001b[1;32m    465\u001b[0m             X = check_array(X, accept_sparse='csr', dtype=np.float64,\n\u001b[0;32m--> 466\u001b[0;31m                             order=\"C\", accept_large_sparse=False)\n\u001b[0m\u001b[1;32m    467\u001b[0m \u001b[0;34m\u001b[0m\u001b[0m\n\u001b[1;32m    468\u001b[0m         \u001b[0;32mif\u001b[0m \u001b[0mself\u001b[0m\u001b[0;34m.\u001b[0m\u001b[0m_sparse\u001b[0m \u001b[0;32mand\u001b[0m \u001b[0;32mnot\u001b[0m \u001b[0msp\u001b[0m\u001b[0;34m.\u001b[0m\u001b[0misspmatrix\u001b[0m\u001b[0;34m(\u001b[0m\u001b[0mX\u001b[0m\u001b[0;34m)\u001b[0m\u001b[0;34m:\u001b[0m\u001b[0;34m\u001b[0m\u001b[0;34m\u001b[0m\u001b[0m\n",
      "\u001b[0;32m~/.local/lib/python3.6/site-packages/sklearn/utils/validation.py\u001b[0m in \u001b[0;36minner_f\u001b[0;34m(*args, **kwargs)\u001b[0m\n\u001b[1;32m     70\u001b[0m                           FutureWarning)\n\u001b[1;32m     71\u001b[0m         \u001b[0mkwargs\u001b[0m\u001b[0;34m.\u001b[0m\u001b[0mupdate\u001b[0m\u001b[0;34m(\u001b[0m\u001b[0;34m{\u001b[0m\u001b[0mk\u001b[0m\u001b[0;34m:\u001b[0m \u001b[0marg\u001b[0m \u001b[0;32mfor\u001b[0m \u001b[0mk\u001b[0m\u001b[0;34m,\u001b[0m \u001b[0marg\u001b[0m \u001b[0;32min\u001b[0m \u001b[0mzip\u001b[0m\u001b[0;34m(\u001b[0m\u001b[0msig\u001b[0m\u001b[0;34m.\u001b[0m\u001b[0mparameters\u001b[0m\u001b[0;34m,\u001b[0m \u001b[0margs\u001b[0m\u001b[0;34m)\u001b[0m\u001b[0;34m}\u001b[0m\u001b[0;34m)\u001b[0m\u001b[0;34m\u001b[0m\u001b[0;34m\u001b[0m\u001b[0m\n\u001b[0;32m---> 72\u001b[0;31m         \u001b[0;32mreturn\u001b[0m \u001b[0mf\u001b[0m\u001b[0;34m(\u001b[0m\u001b[0;34m**\u001b[0m\u001b[0mkwargs\u001b[0m\u001b[0;34m)\u001b[0m\u001b[0;34m\u001b[0m\u001b[0;34m\u001b[0m\u001b[0m\n\u001b[0m\u001b[1;32m     73\u001b[0m     \u001b[0;32mreturn\u001b[0m \u001b[0minner_f\u001b[0m\u001b[0;34m\u001b[0m\u001b[0;34m\u001b[0m\u001b[0m\n\u001b[1;32m     74\u001b[0m \u001b[0;34m\u001b[0m\u001b[0m\n",
      "\u001b[0;32m~/.local/lib/python3.6/site-packages/sklearn/utils/validation.py\u001b[0m in \u001b[0;36mcheck_array\u001b[0;34m(array, accept_sparse, accept_large_sparse, dtype, order, copy, force_all_finite, ensure_2d, allow_nd, ensure_min_samples, ensure_min_features, estimator)\u001b[0m\n\u001b[1;32m    596\u001b[0m                     \u001b[0marray\u001b[0m \u001b[0;34m=\u001b[0m \u001b[0marray\u001b[0m\u001b[0;34m.\u001b[0m\u001b[0mastype\u001b[0m\u001b[0;34m(\u001b[0m\u001b[0mdtype\u001b[0m\u001b[0;34m,\u001b[0m \u001b[0mcasting\u001b[0m\u001b[0;34m=\u001b[0m\u001b[0;34m\"unsafe\"\u001b[0m\u001b[0;34m,\u001b[0m \u001b[0mcopy\u001b[0m\u001b[0;34m=\u001b[0m\u001b[0;32mFalse\u001b[0m\u001b[0;34m)\u001b[0m\u001b[0;34m\u001b[0m\u001b[0;34m\u001b[0m\u001b[0m\n\u001b[1;32m    597\u001b[0m                 \u001b[0;32melse\u001b[0m\u001b[0;34m:\u001b[0m\u001b[0;34m\u001b[0m\u001b[0;34m\u001b[0m\u001b[0m\n\u001b[0;32m--> 598\u001b[0;31m                     \u001b[0marray\u001b[0m \u001b[0;34m=\u001b[0m \u001b[0mnp\u001b[0m\u001b[0;34m.\u001b[0m\u001b[0masarray\u001b[0m\u001b[0;34m(\u001b[0m\u001b[0marray\u001b[0m\u001b[0;34m,\u001b[0m \u001b[0morder\u001b[0m\u001b[0;34m=\u001b[0m\u001b[0morder\u001b[0m\u001b[0;34m,\u001b[0m \u001b[0mdtype\u001b[0m\u001b[0;34m=\u001b[0m\u001b[0mdtype\u001b[0m\u001b[0;34m)\u001b[0m\u001b[0;34m\u001b[0m\u001b[0;34m\u001b[0m\u001b[0m\n\u001b[0m\u001b[1;32m    599\u001b[0m             \u001b[0;32mexcept\u001b[0m \u001b[0mComplexWarning\u001b[0m\u001b[0;34m:\u001b[0m\u001b[0;34m\u001b[0m\u001b[0;34m\u001b[0m\u001b[0m\n\u001b[1;32m    600\u001b[0m                 raise ValueError(\"Complex data not supported\\n\"\n",
      "\u001b[0;32m~/.local/lib/python3.6/site-packages/numpy/core/_asarray.py\u001b[0m in \u001b[0;36masarray\u001b[0;34m(a, dtype, order)\u001b[0m\n\u001b[1;32m     81\u001b[0m \u001b[0;34m\u001b[0m\u001b[0m\n\u001b[1;32m     82\u001b[0m     \"\"\"\n\u001b[0;32m---> 83\u001b[0;31m     \u001b[0;32mreturn\u001b[0m \u001b[0marray\u001b[0m\u001b[0;34m(\u001b[0m\u001b[0ma\u001b[0m\u001b[0;34m,\u001b[0m \u001b[0mdtype\u001b[0m\u001b[0;34m,\u001b[0m \u001b[0mcopy\u001b[0m\u001b[0;34m=\u001b[0m\u001b[0;32mFalse\u001b[0m\u001b[0;34m,\u001b[0m \u001b[0morder\u001b[0m\u001b[0;34m=\u001b[0m\u001b[0morder\u001b[0m\u001b[0;34m)\u001b[0m\u001b[0;34m\u001b[0m\u001b[0;34m\u001b[0m\u001b[0m\n\u001b[0m\u001b[1;32m     84\u001b[0m \u001b[0;34m\u001b[0m\u001b[0m\n\u001b[1;32m     85\u001b[0m \u001b[0;34m\u001b[0m\u001b[0m\n",
      "\u001b[0;31mValueError\u001b[0m: could not convert string to float: '  (0, 1673)\\t0.25915694189484473\\n  (0, 1402)\\t0.7015215322680588\\n  (0, 1195)\\t0.6638563242389026'"
     ]
    }
   ],
   "source": [
    "clf.predict(preprocess_data(comment_positif))"
   ]
  },
  {
   "cell_type": "code",
   "execution_count": null,
   "metadata": {
    "colab": {
     "base_uri": "https://localhost:8080/"
    },
    "executionInfo": {
     "elapsed": 1121,
     "status": "ok",
     "timestamp": 1608525780855,
     "user": {
      "displayName": "Iqbal Pambudi",
      "photoUrl": "https://lh3.googleusercontent.com/a-/AOh14GifQ80kOvsClB_ZopSUHHqxbKQjCyMxIytxHe1n2Q=s64",
      "userId": "12180820000445360434"
     },
     "user_tz": -420
    },
    "id": "7JaiWyO73Kv8",
    "outputId": "d2bc09f5-a0be-4a11-b7fd-de1a14e8a808"
   },
   "outputs": [],
   "source": [
    "clf.predict(preprocess_data(comment_negatif))"
   ]
  },
  {
   "cell_type": "code",
   "execution_count": 64,
   "metadata": {},
   "outputs": [],
   "source": [
    "import joblib\n",
    "import pickle"
   ]
  },
  {
   "cell_type": "code",
   "execution_count": 65,
   "metadata": {},
   "outputs": [
    {
     "data": {
      "text/plain": [
       "['model-85.pkl']"
      ]
     },
     "execution_count": 65,
     "metadata": {},
     "output_type": "execute_result"
    }
   ],
   "source": [
    "# save\n",
    "joblib.dump(clf, \"model-85.pkl\") "
   ]
  },
  {
   "cell_type": "code",
   "execution_count": null,
   "metadata": {},
   "outputs": [],
   "source": [
    "# load\n",
    "clf2 = joblib.load(\"model.pkl\")\n"
   ]
  }
 ],
 "metadata": {
  "colab": {
   "authorship_tag": "ABX9TyM4yrWfBbY6C2cxyDgiC0Nr",
   "name": "Copy of Sentiment Analysis.ipynb",
   "provenance": []
  },
  "kernelspec": {
   "display_name": "Python 3",
   "language": "python",
   "name": "python3"
  },
  "language_info": {
   "codemirror_mode": {
    "name": "ipython",
    "version": 3
   },
   "file_extension": ".py",
   "mimetype": "text/x-python",
   "name": "python",
   "nbconvert_exporter": "python",
   "pygments_lexer": "ipython3",
   "version": "3.6.9"
  }
 },
 "nbformat": 4,
 "nbformat_minor": 1
}
