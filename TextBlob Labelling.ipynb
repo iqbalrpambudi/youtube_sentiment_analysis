{
 "cells": [
  {
   "cell_type": "code",
   "execution_count": 1,
   "metadata": {},
   "outputs": [],
   "source": [
    "import pandas as pd\n",
    "from textblob import TextBlob\n",
    "from deep_translator import GoogleTranslator"
   ]
  },
  {
   "cell_type": "code",
   "execution_count": 2,
   "metadata": {},
   "outputs": [],
   "source": [
    "data=pd.read_csv('../dataset/ready/vaksin_comment_ready_13-12-2020_1.csv',usecols=[8],nrows=1001)"
   ]
  },
  {
   "cell_type": "code",
   "execution_count": 3,
   "metadata": {
    "scrolled": true
   },
   "outputs": [
    {
     "data": {
      "text/html": [
       "<div>\n",
       "<style scoped>\n",
       "    .dataframe tbody tr th:only-of-type {\n",
       "        vertical-align: middle;\n",
       "    }\n",
       "\n",
       "    .dataframe tbody tr th {\n",
       "        vertical-align: top;\n",
       "    }\n",
       "\n",
       "    .dataframe thead th {\n",
       "        text-align: right;\n",
       "    }\n",
       "</style>\n",
       "<table border=\"1\" class=\"dataframe\">\n",
       "  <thead>\n",
       "    <tr style=\"text-align: right;\">\n",
       "      <th></th>\n",
       "      <th>comment_normal_joined</th>\n",
       "    </tr>\n",
       "  </thead>\n",
       "  <tbody>\n",
       "    <tr>\n",
       "      <th>0</th>\n",
       "      <td>vaksin tidak berguna</td>\n",
       "    </tr>\n",
       "    <tr>\n",
       "      <th>1</th>\n",
       "      <td>penelitian vaksin yang begitu cepat vaksin dbd...</td>\n",
       "    </tr>\n",
       "    <tr>\n",
       "      <th>2</th>\n",
       "      <td>kalau bisa faksinnya di tambahin odading mang ...</td>\n",
       "    </tr>\n",
       "    <tr>\n",
       "      <th>3</th>\n",
       "      <td>yang divaksin pertama harusnya orang nomor di ...</td>\n",
       "    </tr>\n",
       "    <tr>\n",
       "      <th>4</th>\n",
       "      <td>tolak vaksin covid</td>\n",
       "    </tr>\n",
       "  </tbody>\n",
       "</table>\n",
       "</div>"
      ],
      "text/plain": [
       "                               comment_normal_joined\n",
       "0                               vaksin tidak berguna\n",
       "1  penelitian vaksin yang begitu cepat vaksin dbd...\n",
       "2  kalau bisa faksinnya di tambahin odading mang ...\n",
       "3  yang divaksin pertama harusnya orang nomor di ...\n",
       "4                                 tolak vaksin covid"
      ]
     },
     "execution_count": 3,
     "metadata": {},
     "output_type": "execute_result"
    }
   ],
   "source": [
    "data.head() "
   ]
  },
  {
   "cell_type": "code",
   "execution_count": 4,
   "metadata": {},
   "outputs": [],
   "source": [
    "df = data['comment_normal_joined'][:1001]\n",
    "polarity = []\n",
    "translate = []\n",
    "sentiment = []\n",
    "\n",
    "for i in df:    \n",
    "    try:\n",
    "        if len(i) < 4000:\n",
    "            translated = GoogleTranslator(source='id', target='en').translate(i)\n",
    "    except Exception as e:\n",
    "        print(e)\n",
    "        \n",
    "    analysis = TextBlob(translated)\n",
    "        \n",
    "    translate.append(str(analysis))\n",
    "    if analysis.sentiment.polarity > 0:\n",
    "        polarity.append(analysis.sentiment.polarity)\n",
    "        sentiment.append(1)\n",
    "    elif analysis.sentiment.polarity < 0:\n",
    "        polarity.append(analysis.sentiment.polarity)\n",
    "        sentiment.append(-1)\n",
    "    else:\n",
    "        polarity.append(analysis.sentiment.polarity)\n",
    "        sentiment.append(0)\n",
    "        \n",
    "data['english_translate'] = translate\n",
    "data['polarity'] = polarity\n",
    "data['sentiment'] = sentiment"
   ]
  },
  {
   "cell_type": "code",
   "execution_count": 5,
   "metadata": {
    "scrolled": true
   },
   "outputs": [
    {
     "data": {
      "text/html": [
       "<div>\n",
       "<style scoped>\n",
       "    .dataframe tbody tr th:only-of-type {\n",
       "        vertical-align: middle;\n",
       "    }\n",
       "\n",
       "    .dataframe tbody tr th {\n",
       "        vertical-align: top;\n",
       "    }\n",
       "\n",
       "    .dataframe thead th {\n",
       "        text-align: right;\n",
       "    }\n",
       "</style>\n",
       "<table border=\"1\" class=\"dataframe\">\n",
       "  <thead>\n",
       "    <tr style=\"text-align: right;\">\n",
       "      <th></th>\n",
       "      <th>comment_normal_joined</th>\n",
       "      <th>english_translate</th>\n",
       "      <th>polarity</th>\n",
       "      <th>sentiment</th>\n",
       "    </tr>\n",
       "  </thead>\n",
       "  <tbody>\n",
       "    <tr>\n",
       "      <th>996</th>\n",
       "      <td>pake nanya lagi yang di prioritaskan pasti pas...</td>\n",
       "      <td>using another question, the priority is defini...</td>\n",
       "      <td>0.000000</td>\n",
       "      <td>0</td>\n",
       "    </tr>\n",
       "    <tr>\n",
       "      <th>997</th>\n",
       "      <td>kalau vaksin gagal ada efek samping yang menga...</td>\n",
       "      <td>If the vaccine fails there are side effects th...</td>\n",
       "      <td>-0.033333</td>\n",
       "      <td>-1</td>\n",
       "    </tr>\n",
       "    <tr>\n",
       "      <th>998</th>\n",
       "      <td>gak yakin ini malah bisa jadi bumerang ke mati...</td>\n",
       "      <td>I'm not sure if this could even boomerang to m...</td>\n",
       "      <td>0.000000</td>\n",
       "      <td>0</td>\n",
       "    </tr>\n",
       "    <tr>\n",
       "      <th>999</th>\n",
       "      <td>ayo drun bikin vaksin tandingan dari china kat...</td>\n",
       "      <td>Come on, Drun makes a counter vaccine from Chi...</td>\n",
       "      <td>0.000000</td>\n",
       "      <td>0</td>\n",
       "    </tr>\n",
       "    <tr>\n",
       "      <th>1000</th>\n",
       "      <td>saya ga mau di vaksin</td>\n",
       "      <td>I don't want the vaccine</td>\n",
       "      <td>0.000000</td>\n",
       "      <td>0</td>\n",
       "    </tr>\n",
       "  </tbody>\n",
       "</table>\n",
       "</div>"
      ],
      "text/plain": [
       "                                  comment_normal_joined  \\\n",
       "996   pake nanya lagi yang di prioritaskan pasti pas...   \n",
       "997   kalau vaksin gagal ada efek samping yang menga...   \n",
       "998   gak yakin ini malah bisa jadi bumerang ke mati...   \n",
       "999   ayo drun bikin vaksin tandingan dari china kat...   \n",
       "1000                              saya ga mau di vaksin   \n",
       "\n",
       "                                      english_translate  polarity  sentiment  \n",
       "996   using another question, the priority is defini...  0.000000          0  \n",
       "997   If the vaccine fails there are side effects th... -0.033333         -1  \n",
       "998   I'm not sure if this could even boomerang to m...  0.000000          0  \n",
       "999   Come on, Drun makes a counter vaccine from Chi...  0.000000          0  \n",
       "1000                           I don't want the vaccine  0.000000          0  "
      ]
     },
     "execution_count": 5,
     "metadata": {},
     "output_type": "execute_result"
    }
   ],
   "source": [
    "data.tail()"
   ]
  },
  {
   "cell_type": "code",
   "execution_count": 6,
   "metadata": {},
   "outputs": [],
   "source": [
    "comment_positif = []\n",
    "comment_negatif = []\n",
    "comment_netral = []\n",
    "for index, row in data.iterrows():\n",
    "#     print(row[1], row[2])\n",
    "    if row[3] == 1:\n",
    "        comment_positif.append(row[0])\n",
    "    elif row[3] == -1:\n",
    "        comment_negatif.append(row[0])\n",
    "    else:\n",
    "        comment_netral.append(row[0])\n"
   ]
  },
  {
   "cell_type": "code",
   "execution_count": 7,
   "metadata": {
    "scrolled": false
   },
   "outputs": [
    {
     "name": "stdout",
     "output_type": "stream",
     "text": [
      "Positif : 43.15684315684315%\n",
      "Negatif : 15.184815184815184%\n",
      "Netral : 41.658341658341655%\n"
     ]
    }
   ],
   "source": [
    "print(\"Positif : \"+str(len(comment_positif)/len(data)*100)+\"%\")\n",
    "print(\"Negatif : \"+str(len(comment_negatif)/len(data)*100)+\"%\")\n",
    "print(\"Netral : \"+str(len(comment_netral)/len(data)*100)+\"%\")"
   ]
  },
  {
   "cell_type": "code",
   "execution_count": 8,
   "metadata": {},
   "outputs": [],
   "source": [
    "data.to_csv(\"../dataset/ready/textblob_dataset_ready.csv\")"
   ]
  },
  {
   "cell_type": "code",
   "execution_count": null,
   "metadata": {},
   "outputs": [],
   "source": []
  }
 ],
 "metadata": {
  "kernelspec": {
   "display_name": "Python 3",
   "language": "python",
   "name": "python3"
  },
  "language_info": {
   "codemirror_mode": {
    "name": "ipython",
    "version": 3
   },
   "file_extension": ".py",
   "mimetype": "text/x-python",
   "name": "python",
   "nbconvert_exporter": "python",
   "pygments_lexer": "ipython3",
   "version": "3.6.9"
  }
 },
 "nbformat": 4,
 "nbformat_minor": 4
}
